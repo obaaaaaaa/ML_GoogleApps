{
 "cells": [
  {
   "cell_type": "markdown",
   "metadata": {},
   "source": [
    "## LOS DATOS:\n",
    "data set de kaagle, datos de applicaciones de google store"
   ]
  },
  {
   "cell_type": "markdown",
   "metadata": {},
   "source": [
    "### limpieza de datos\n",
    "### escalar . OHE , MINMAX\n",
    "### cross validation\n",
    "### grid search\n",
    "### modelo catboost regressor"
   ]
  },
  {
   "cell_type": "markdown",
   "metadata": {},
   "source": []
  }
 ],
 "metadata": {
  "kernelspec": {
   "display_name": "Python 3",
   "language": "python",
   "name": "python3"
  },
  "language_info": {
   "codemirror_mode": {
    "name": "ipython",
    "version": 3
   },
   "file_extension": ".py",
   "mimetype": "text/x-python",
   "name": "python",
   "nbconvert_exporter": "python",
   "pygments_lexer": "ipython3",
   "version": "3.11.5"
  }
 },
 "nbformat": 4,
 "nbformat_minor": 2
}
